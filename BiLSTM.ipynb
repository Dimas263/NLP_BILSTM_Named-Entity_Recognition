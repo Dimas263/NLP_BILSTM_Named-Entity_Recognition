{
  "nbformat": 4,
  "nbformat_minor": 0,
  "metadata": {
    "colab": {
      "name": "BiLSTM.ipynb",
      "provenance": [],
      "collapsed_sections": [],
      "include_colab_link": true
    },
    "kernelspec": {
      "name": "python3",
      "display_name": "Python 3"
    },
    "language_info": {
      "name": "python"
    },
    "gpuClass": "standard"
  },
  "cells": [
    {
      "cell_type": "markdown",
      "metadata": {
        "id": "view-in-github",
        "colab_type": "text"
      },
      "source": [
        "<a href=\"https://colab.research.google.com/github/Dimas263/NLP_BILSTM_Named-Entity_Recognition/blob/main/BiLSTM.ipynb\" target=\"_parent\"><img src=\"https://colab.research.google.com/assets/colab-badge.svg\" alt=\"Open In Colab\"/></a>"
      ]
    },
    {
      "cell_type": "markdown",
      "source": [
        "# <img src=\"https://img.icons8.com/external-flaticons-lineal-color-flat-icons/64/undefined/external-big-data-smart-technology-flaticons-lineal-color-flat-icons-2.png\"/> **NLP Research<br>BiLSTM Named Entity Recognition**\n",
        "## <img src=\"https://img.icons8.com/external-fauzidea-flat-fauzidea/64/undefined/external-man-avatar-avatar-fauzidea-flat-fauzidea.png\"/> **`Dimas Dwi Putra`**"
      ],
      "metadata": {
        "id": "amy3KG2qC381"
      }
    },
    {
      "cell_type": "markdown",
      "source": [
        "# **Model BILSTM ARCHITECTURE**"
      ],
      "metadata": {
        "id": "CJL_Ks2Da_mb"
      }
    },
    {
      "cell_type": "markdown",
      "source": [
        "<center>\n",
        "\n",
        "![model.png](data:image/png;base64,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)\n",
        "\n",
        "</center>"
      ],
      "metadata": {
        "id": "r6E_1bvtajcX"
      }
    },
    {
      "cell_type": "markdown",
      "source": [
        "# **Source Code And Output**"
      ],
      "metadata": {
        "id": "HT23CwSobF2k"
      }
    },
    {
      "cell_type": "code",
      "source": [
        "from google.colab import drive\n",
        "drive.mount('/content/drive')"
      ],
      "metadata": {
        "colab": {
          "base_uri": "https://localhost:8080/"
        },
        "id": "f4Mb8AyhFJLE",
        "outputId": "1a49eb70-9fc6-48f9-f741-77a9814b6c38"
      },
      "execution_count": null,
      "outputs": [
        {
          "output_type": "stream",
          "name": "stdout",
          "text": [
            "Mounted at /content/drive\n"
          ]
        }
      ]
    },
    {
      "cell_type": "code",
      "source": [
        "! pip install tensorflow\n",
        "! pip install keras==0.23.1\n",
        "! pip install git+https://www.github.com/keras-team/keras-contrib.git"
      ],
      "metadata": {
        "id": "LcAwjXuOCkq_"
      },
      "execution_count": null,
      "outputs": []
    },
    {
      "cell_type": "code",
      "source": [
        "! pip install sklearn-crfsuite\n",
        "! pip install seqeval\n",
        "! pip install numpy==1.19.5"
      ],
      "metadata": {
        "id": "8hMdXfivDa_N"
      },
      "execution_count": null,
      "outputs": []
    },
    {
      "cell_type": "code",
      "execution_count": null,
      "metadata": {
        "id": "eTN-VfXKBtsN"
      },
      "outputs": [],
      "source": [
        "import os\n",
        "import numpy as np \n",
        "import pandas as pd\n",
        "import tensorflow\n",
        "\n",
        "from sklearn.model_selection import train_test_split\n",
        "from keras.preprocessing.sequence import pad_sequences\n",
        "from tensorflow.keras.utils import to_categorical\n",
        "from itertools import chain\n",
        "import matplotlib.pyplot as plt\n",
        "%matplotlib inline\n",
        "\n",
        "from tensorflow.keras import Sequential, Model, Input\n",
        "from tensorflow.keras.layers import LSTM, Embedding, Dense, TimeDistributed, Dropout, SpatialDropout1D, Bidirectional\n",
        "from tensorflow.keras.utils import plot_model\n",
        "\n",
        "from numpy.random import seed"
      ]
    },
    {
      "cell_type": "code",
      "source": [
        "for dirname, _, filenames in os.walk('/content/drive/MyDrive/bert_bilstm_crf_named_entity_recognition/BILSTM-NER/input/'):\n",
        "    for filename in filenames:\n",
        "        print(os.path.join(dirname, filename))"
      ],
      "metadata": {
        "id": "2QcoyW7cDy1c"
      },
      "execution_count": null,
      "outputs": []
    },
    {
      "cell_type": "code",
      "source": [
        "df = pd.read_csv('/content/drive/MyDrive/bert_bilstm_crf_named_entity_recognition/BILSTM-NER/input/ner_dataset.csv', encoding= 'unicode_escape')"
      ],
      "metadata": {
        "id": "EjGitQNxIksg"
      },
      "execution_count": null,
      "outputs": []
    },
    {
      "cell_type": "code",
      "source": [
        "df.head(20)"
      ],
      "metadata": {
        "colab": {
          "base_uri": "https://localhost:8080/",
          "height": 677
        },
        "id": "o2r885Safq72",
        "outputId": "d2cea321-93de-42c5-d02a-d89c3b0cc0dc"
      },
      "execution_count": null,
      "outputs": [
        {
          "output_type": "execute_result",
          "data": {
            "text/plain": [
              "     Sentence #         Word  POS      Tag\n",
              "0   Sentence: 0      studies  NNS        O\n",
              "1   Sentence: 0           on   IN        O\n",
              "2   Sentence: 0    magnesium   NN        O\n",
              "3   Sentence: 0            s   NN        O\n",
              "4   Sentence: 0    mechanism   NN        O\n",
              "5   Sentence: 0           of   IN        O\n",
              "6   Sentence: 0       action   NN        O\n",
              "7   Sentence: 0           in   IN        O\n",
              "8   Sentence: 0    digitalis   NN    plant\n",
              "9   Sentence: 0      induced  VBD        O\n",
              "10  Sentence: 0  arrhythmias  NNS  disease\n",
              "11  Sentence: 1          the   DT        O\n",
              "12  Sentence: 1    mechanism   NN        O\n",
              "13  Sentence: 1           by   IN        O\n",
              "14  Sentence: 1        which  WDT        O\n",
              "15  Sentence: 1    magnesium   NN        O\n",
              "16  Sentence: 1      affects  VBZ        O\n",
              "17  Sentence: 1    digitalis   RB    plant\n",
              "18  Sentence: 1      induced   JJ        O\n",
              "19  Sentence: 1  arrhythmias   NN  disease"
            ],
            "text/html": [
              "\n",
              "  <div id=\"df-56090585-3145-41c1-8cad-78e3a5f94e90\">\n",
              "    <div class=\"colab-df-container\">\n",
              "      <div>\n",
              "<style scoped>\n",
              "    .dataframe tbody tr th:only-of-type {\n",
              "        vertical-align: middle;\n",
              "    }\n",
              "\n",
              "    .dataframe tbody tr th {\n",
              "        vertical-align: top;\n",
              "    }\n",
              "\n",
              "    .dataframe thead th {\n",
              "        text-align: right;\n",
              "    }\n",
              "</style>\n",
              "<table border=\"1\" class=\"dataframe\">\n",
              "  <thead>\n",
              "    <tr style=\"text-align: right;\">\n",
              "      <th></th>\n",
              "      <th>Sentence #</th>\n",
              "      <th>Word</th>\n",
              "      <th>POS</th>\n",
              "      <th>Tag</th>\n",
              "    </tr>\n",
              "  </thead>\n",
              "  <tbody>\n",
              "    <tr>\n",
              "      <th>0</th>\n",
              "      <td>Sentence: 0</td>\n",
              "      <td>studies</td>\n",
              "      <td>NNS</td>\n",
              "      <td>O</td>\n",
              "    </tr>\n",
              "    <tr>\n",
              "      <th>1</th>\n",
              "      <td>Sentence: 0</td>\n",
              "      <td>on</td>\n",
              "      <td>IN</td>\n",
              "      <td>O</td>\n",
              "    </tr>\n",
              "    <tr>\n",
              "      <th>2</th>\n",
              "      <td>Sentence: 0</td>\n",
              "      <td>magnesium</td>\n",
              "      <td>NN</td>\n",
              "      <td>O</td>\n",
              "    </tr>\n",
              "    <tr>\n",
              "      <th>3</th>\n",
              "      <td>Sentence: 0</td>\n",
              "      <td>s</td>\n",
              "      <td>NN</td>\n",
              "      <td>O</td>\n",
              "    </tr>\n",
              "    <tr>\n",
              "      <th>4</th>\n",
              "      <td>Sentence: 0</td>\n",
              "      <td>mechanism</td>\n",
              "      <td>NN</td>\n",
              "      <td>O</td>\n",
              "    </tr>\n",
              "    <tr>\n",
              "      <th>5</th>\n",
              "      <td>Sentence: 0</td>\n",
              "      <td>of</td>\n",
              "      <td>IN</td>\n",
              "      <td>O</td>\n",
              "    </tr>\n",
              "    <tr>\n",
              "      <th>6</th>\n",
              "      <td>Sentence: 0</td>\n",
              "      <td>action</td>\n",
              "      <td>NN</td>\n",
              "      <td>O</td>\n",
              "    </tr>\n",
              "    <tr>\n",
              "      <th>7</th>\n",
              "      <td>Sentence: 0</td>\n",
              "      <td>in</td>\n",
              "      <td>IN</td>\n",
              "      <td>O</td>\n",
              "    </tr>\n",
              "    <tr>\n",
              "      <th>8</th>\n",
              "      <td>Sentence: 0</td>\n",
              "      <td>digitalis</td>\n",
              "      <td>NN</td>\n",
              "      <td>plant</td>\n",
              "    </tr>\n",
              "    <tr>\n",
              "      <th>9</th>\n",
              "      <td>Sentence: 0</td>\n",
              "      <td>induced</td>\n",
              "      <td>VBD</td>\n",
              "      <td>O</td>\n",
              "    </tr>\n",
              "    <tr>\n",
              "      <th>10</th>\n",
              "      <td>Sentence: 0</td>\n",
              "      <td>arrhythmias</td>\n",
              "      <td>NNS</td>\n",
              "      <td>disease</td>\n",
              "    </tr>\n",
              "    <tr>\n",
              "      <th>11</th>\n",
              "      <td>Sentence: 1</td>\n",
              "      <td>the</td>\n",
              "      <td>DT</td>\n",
              "      <td>O</td>\n",
              "    </tr>\n",
              "    <tr>\n",
              "      <th>12</th>\n",
              "      <td>Sentence: 1</td>\n",
              "      <td>mechanism</td>\n",
              "      <td>NN</td>\n",
              "      <td>O</td>\n",
              "    </tr>\n",
              "    <tr>\n",
              "      <th>13</th>\n",
              "      <td>Sentence: 1</td>\n",
              "      <td>by</td>\n",
              "      <td>IN</td>\n",
              "      <td>O</td>\n",
              "    </tr>\n",
              "    <tr>\n",
              "      <th>14</th>\n",
              "      <td>Sentence: 1</td>\n",
              "      <td>which</td>\n",
              "      <td>WDT</td>\n",
              "      <td>O</td>\n",
              "    </tr>\n",
              "    <tr>\n",
              "      <th>15</th>\n",
              "      <td>Sentence: 1</td>\n",
              "      <td>magnesium</td>\n",
              "      <td>NN</td>\n",
              "      <td>O</td>\n",
              "    </tr>\n",
              "    <tr>\n",
              "      <th>16</th>\n",
              "      <td>Sentence: 1</td>\n",
              "      <td>affects</td>\n",
              "      <td>VBZ</td>\n",
              "      <td>O</td>\n",
              "    </tr>\n",
              "    <tr>\n",
              "      <th>17</th>\n",
              "      <td>Sentence: 1</td>\n",
              "      <td>digitalis</td>\n",
              "      <td>RB</td>\n",
              "      <td>plant</td>\n",
              "    </tr>\n",
              "    <tr>\n",
              "      <th>18</th>\n",
              "      <td>Sentence: 1</td>\n",
              "      <td>induced</td>\n",
              "      <td>JJ</td>\n",
              "      <td>O</td>\n",
              "    </tr>\n",
              "    <tr>\n",
              "      <th>19</th>\n",
              "      <td>Sentence: 1</td>\n",
              "      <td>arrhythmias</td>\n",
              "      <td>NN</td>\n",
              "      <td>disease</td>\n",
              "    </tr>\n",
              "  </tbody>\n",
              "</table>\n",
              "</div>\n",
              "      <button class=\"colab-df-convert\" onclick=\"convertToInteractive('df-56090585-3145-41c1-8cad-78e3a5f94e90')\"\n",
              "              title=\"Convert this dataframe to an interactive table.\"\n",
              "              style=\"display:none;\">\n",
              "        \n",
              "  <svg xmlns=\"http://www.w3.org/2000/svg\" height=\"24px\"viewBox=\"0 0 24 24\"\n",
              "       width=\"24px\">\n",
              "    <path d=\"M0 0h24v24H0V0z\" fill=\"none\"/>\n",
              "    <path d=\"M18.56 5.44l.94 2.06.94-2.06 2.06-.94-2.06-.94-.94-2.06-.94 2.06-2.06.94zm-11 1L8.5 8.5l.94-2.06 2.06-.94-2.06-.94L8.5 2.5l-.94 2.06-2.06.94zm10 10l.94 2.06.94-2.06 2.06-.94-2.06-.94-.94-2.06-.94 2.06-2.06.94z\"/><path d=\"M17.41 7.96l-1.37-1.37c-.4-.4-.92-.59-1.43-.59-.52 0-1.04.2-1.43.59L10.3 9.45l-7.72 7.72c-.78.78-.78 2.05 0 2.83L4 21.41c.39.39.9.59 1.41.59.51 0 1.02-.2 1.41-.59l7.78-7.78 2.81-2.81c.8-.78.8-2.07 0-2.86zM5.41 20L4 18.59l7.72-7.72 1.47 1.35L5.41 20z\"/>\n",
              "  </svg>\n",
              "      </button>\n",
              "      \n",
              "  <style>\n",
              "    .colab-df-container {\n",
              "      display:flex;\n",
              "      flex-wrap:wrap;\n",
              "      gap: 12px;\n",
              "    }\n",
              "\n",
              "    .colab-df-convert {\n",
              "      background-color: #E8F0FE;\n",
              "      border: none;\n",
              "      border-radius: 50%;\n",
              "      cursor: pointer;\n",
              "      display: none;\n",
              "      fill: #1967D2;\n",
              "      height: 32px;\n",
              "      padding: 0 0 0 0;\n",
              "      width: 32px;\n",
              "    }\n",
              "\n",
              "    .colab-df-convert:hover {\n",
              "      background-color: #E2EBFA;\n",
              "      box-shadow: 0px 1px 2px rgba(60, 64, 67, 0.3), 0px 1px 3px 1px rgba(60, 64, 67, 0.15);\n",
              "      fill: #174EA6;\n",
              "    }\n",
              "\n",
              "    [theme=dark] .colab-df-convert {\n",
              "      background-color: #3B4455;\n",
              "      fill: #D2E3FC;\n",
              "    }\n",
              "\n",
              "    [theme=dark] .colab-df-convert:hover {\n",
              "      background-color: #434B5C;\n",
              "      box-shadow: 0px 1px 3px 1px rgba(0, 0, 0, 0.15);\n",
              "      filter: drop-shadow(0px 1px 2px rgba(0, 0, 0, 0.3));\n",
              "      fill: #FFFFFF;\n",
              "    }\n",
              "  </style>\n",
              "\n",
              "      <script>\n",
              "        const buttonEl =\n",
              "          document.querySelector('#df-56090585-3145-41c1-8cad-78e3a5f94e90 button.colab-df-convert');\n",
              "        buttonEl.style.display =\n",
              "          google.colab.kernel.accessAllowed ? 'block' : 'none';\n",
              "\n",
              "        async function convertToInteractive(key) {\n",
              "          const element = document.querySelector('#df-56090585-3145-41c1-8cad-78e3a5f94e90');\n",
              "          const dataTable =\n",
              "            await google.colab.kernel.invokeFunction('convertToInteractive',\n",
              "                                                     [key], {});\n",
              "          if (!dataTable) return;\n",
              "\n",
              "          const docLinkHtml = 'Like what you see? Visit the ' +\n",
              "            '<a target=\"_blank\" href=https://colab.research.google.com/notebooks/data_table.ipynb>data table notebook</a>'\n",
              "            + ' to learn more about interactive tables.';\n",
              "          element.innerHTML = '';\n",
              "          dataTable['output_type'] = 'display_data';\n",
              "          await google.colab.output.renderOutput(dataTable, element);\n",
              "          const docLink = document.createElement('div');\n",
              "          docLink.innerHTML = docLinkHtml;\n",
              "          element.appendChild(docLink);\n",
              "        }\n",
              "      </script>\n",
              "    </div>\n",
              "  </div>\n",
              "  "
            ]
          },
          "metadata": {},
          "execution_count": 7
        }
      ]
    },
    {
      "cell_type": "code",
      "source": [
        "df.tail(20)"
      ],
      "metadata": {
        "colab": {
          "base_uri": "https://localhost:8080/",
          "height": 677
        },
        "id": "y8-r4HbbftJe",
        "outputId": "6831c1f2-0825-4970-ab5c-94d12934e1cc"
      },
      "execution_count": null,
      "outputs": [
        {
          "output_type": "execute_result",
          "data": {
            "text/plain": [
              "           Sentence #           Word  POS      Tag\n",
              "38185  Sentence: 1309            use   NN        O\n",
              "38186  Sentence: 1309          these   DT        O\n",
              "38187  Sentence: 1309       findings  NNS        O\n",
              "38188  Sentence: 1309        suggest  VBP        O\n",
              "38189  Sentence: 1309           that   IN        O\n",
              "38190  Sentence: 1309           part   NN        O\n",
              "38191  Sentence: 1309             of   IN        O\n",
              "38192  Sentence: 1309            the   DT        O\n",
              "38193  Sentence: 1309    association   NN        O\n",
              "38194  Sentence: 1309        between   IN        O\n",
              "38195  Sentence: 1309  schizophrenia   NN  disease\n",
              "38196  Sentence: 1309            and   CC        O\n",
              "38197  Sentence: 1309       cannabis   NN    plant\n",
              "38198  Sentence: 1309       cannabis   NN    plant\n",
              "38199  Sentence: 1309             is  VBZ        O\n",
              "38200  Sentence: 1309            due   JJ        O\n",
              "38201  Sentence: 1309             to   TO        O\n",
              "38202  Sentence: 1309              a   DT        O\n",
              "38203  Sentence: 1309         shared  VBN        O\n",
              "38204  Sentence: 1309        genetic   JJ        O"
            ],
            "text/html": [
              "\n",
              "  <div id=\"df-e6d59232-a7e4-48e3-9e64-9195e3b1226a\">\n",
              "    <div class=\"colab-df-container\">\n",
              "      <div>\n",
              "<style scoped>\n",
              "    .dataframe tbody tr th:only-of-type {\n",
              "        vertical-align: middle;\n",
              "    }\n",
              "\n",
              "    .dataframe tbody tr th {\n",
              "        vertical-align: top;\n",
              "    }\n",
              "\n",
              "    .dataframe thead th {\n",
              "        text-align: right;\n",
              "    }\n",
              "</style>\n",
              "<table border=\"1\" class=\"dataframe\">\n",
              "  <thead>\n",
              "    <tr style=\"text-align: right;\">\n",
              "      <th></th>\n",
              "      <th>Sentence #</th>\n",
              "      <th>Word</th>\n",
              "      <th>POS</th>\n",
              "      <th>Tag</th>\n",
              "    </tr>\n",
              "  </thead>\n",
              "  <tbody>\n",
              "    <tr>\n",
              "      <th>38185</th>\n",
              "      <td>Sentence: 1309</td>\n",
              "      <td>use</td>\n",
              "      <td>NN</td>\n",
              "      <td>O</td>\n",
              "    </tr>\n",
              "    <tr>\n",
              "      <th>38186</th>\n",
              "      <td>Sentence: 1309</td>\n",
              "      <td>these</td>\n",
              "      <td>DT</td>\n",
              "      <td>O</td>\n",
              "    </tr>\n",
              "    <tr>\n",
              "      <th>38187</th>\n",
              "      <td>Sentence: 1309</td>\n",
              "      <td>findings</td>\n",
              "      <td>NNS</td>\n",
              "      <td>O</td>\n",
              "    </tr>\n",
              "    <tr>\n",
              "      <th>38188</th>\n",
              "      <td>Sentence: 1309</td>\n",
              "      <td>suggest</td>\n",
              "      <td>VBP</td>\n",
              "      <td>O</td>\n",
              "    </tr>\n",
              "    <tr>\n",
              "      <th>38189</th>\n",
              "      <td>Sentence: 1309</td>\n",
              "      <td>that</td>\n",
              "      <td>IN</td>\n",
              "      <td>O</td>\n",
              "    </tr>\n",
              "    <tr>\n",
              "      <th>38190</th>\n",
              "      <td>Sentence: 1309</td>\n",
              "      <td>part</td>\n",
              "      <td>NN</td>\n",
              "      <td>O</td>\n",
              "    </tr>\n",
              "    <tr>\n",
              "      <th>38191</th>\n",
              "      <td>Sentence: 1309</td>\n",
              "      <td>of</td>\n",
              "      <td>IN</td>\n",
              "      <td>O</td>\n",
              "    </tr>\n",
              "    <tr>\n",
              "      <th>38192</th>\n",
              "      <td>Sentence: 1309</td>\n",
              "      <td>the</td>\n",
              "      <td>DT</td>\n",
              "      <td>O</td>\n",
              "    </tr>\n",
              "    <tr>\n",
              "      <th>38193</th>\n",
              "      <td>Sentence: 1309</td>\n",
              "      <td>association</td>\n",
              "      <td>NN</td>\n",
              "      <td>O</td>\n",
              "    </tr>\n",
              "    <tr>\n",
              "      <th>38194</th>\n",
              "      <td>Sentence: 1309</td>\n",
              "      <td>between</td>\n",
              "      <td>IN</td>\n",
              "      <td>O</td>\n",
              "    </tr>\n",
              "    <tr>\n",
              "      <th>38195</th>\n",
              "      <td>Sentence: 1309</td>\n",
              "      <td>schizophrenia</td>\n",
              "      <td>NN</td>\n",
              "      <td>disease</td>\n",
              "    </tr>\n",
              "    <tr>\n",
              "      <th>38196</th>\n",
              "      <td>Sentence: 1309</td>\n",
              "      <td>and</td>\n",
              "      <td>CC</td>\n",
              "      <td>O</td>\n",
              "    </tr>\n",
              "    <tr>\n",
              "      <th>38197</th>\n",
              "      <td>Sentence: 1309</td>\n",
              "      <td>cannabis</td>\n",
              "      <td>NN</td>\n",
              "      <td>plant</td>\n",
              "    </tr>\n",
              "    <tr>\n",
              "      <th>38198</th>\n",
              "      <td>Sentence: 1309</td>\n",
              "      <td>cannabis</td>\n",
              "      <td>NN</td>\n",
              "      <td>plant</td>\n",
              "    </tr>\n",
              "    <tr>\n",
              "      <th>38199</th>\n",
              "      <td>Sentence: 1309</td>\n",
              "      <td>is</td>\n",
              "      <td>VBZ</td>\n",
              "      <td>O</td>\n",
              "    </tr>\n",
              "    <tr>\n",
              "      <th>38200</th>\n",
              "      <td>Sentence: 1309</td>\n",
              "      <td>due</td>\n",
              "      <td>JJ</td>\n",
              "      <td>O</td>\n",
              "    </tr>\n",
              "    <tr>\n",
              "      <th>38201</th>\n",
              "      <td>Sentence: 1309</td>\n",
              "      <td>to</td>\n",
              "      <td>TO</td>\n",
              "      <td>O</td>\n",
              "    </tr>\n",
              "    <tr>\n",
              "      <th>38202</th>\n",
              "      <td>Sentence: 1309</td>\n",
              "      <td>a</td>\n",
              "      <td>DT</td>\n",
              "      <td>O</td>\n",
              "    </tr>\n",
              "    <tr>\n",
              "      <th>38203</th>\n",
              "      <td>Sentence: 1309</td>\n",
              "      <td>shared</td>\n",
              "      <td>VBN</td>\n",
              "      <td>O</td>\n",
              "    </tr>\n",
              "    <tr>\n",
              "      <th>38204</th>\n",
              "      <td>Sentence: 1309</td>\n",
              "      <td>genetic</td>\n",
              "      <td>JJ</td>\n",
              "      <td>O</td>\n",
              "    </tr>\n",
              "  </tbody>\n",
              "</table>\n",
              "</div>\n",
              "      <button class=\"colab-df-convert\" onclick=\"convertToInteractive('df-e6d59232-a7e4-48e3-9e64-9195e3b1226a')\"\n",
              "              title=\"Convert this dataframe to an interactive table.\"\n",
              "              style=\"display:none;\">\n",
              "        \n",
              "  <svg xmlns=\"http://www.w3.org/2000/svg\" height=\"24px\"viewBox=\"0 0 24 24\"\n",
              "       width=\"24px\">\n",
              "    <path d=\"M0 0h24v24H0V0z\" fill=\"none\"/>\n",
              "    <path d=\"M18.56 5.44l.94 2.06.94-2.06 2.06-.94-2.06-.94-.94-2.06-.94 2.06-2.06.94zm-11 1L8.5 8.5l.94-2.06 2.06-.94-2.06-.94L8.5 2.5l-.94 2.06-2.06.94zm10 10l.94 2.06.94-2.06 2.06-.94-2.06-.94-.94-2.06-.94 2.06-2.06.94z\"/><path d=\"M17.41 7.96l-1.37-1.37c-.4-.4-.92-.59-1.43-.59-.52 0-1.04.2-1.43.59L10.3 9.45l-7.72 7.72c-.78.78-.78 2.05 0 2.83L4 21.41c.39.39.9.59 1.41.59.51 0 1.02-.2 1.41-.59l7.78-7.78 2.81-2.81c.8-.78.8-2.07 0-2.86zM5.41 20L4 18.59l7.72-7.72 1.47 1.35L5.41 20z\"/>\n",
              "  </svg>\n",
              "      </button>\n",
              "      \n",
              "  <style>\n",
              "    .colab-df-container {\n",
              "      display:flex;\n",
              "      flex-wrap:wrap;\n",
              "      gap: 12px;\n",
              "    }\n",
              "\n",
              "    .colab-df-convert {\n",
              "      background-color: #E8F0FE;\n",
              "      border: none;\n",
              "      border-radius: 50%;\n",
              "      cursor: pointer;\n",
              "      display: none;\n",
              "      fill: #1967D2;\n",
              "      height: 32px;\n",
              "      padding: 0 0 0 0;\n",
              "      width: 32px;\n",
              "    }\n",
              "\n",
              "    .colab-df-convert:hover {\n",
              "      background-color: #E2EBFA;\n",
              "      box-shadow: 0px 1px 2px rgba(60, 64, 67, 0.3), 0px 1px 3px 1px rgba(60, 64, 67, 0.15);\n",
              "      fill: #174EA6;\n",
              "    }\n",
              "\n",
              "    [theme=dark] .colab-df-convert {\n",
              "      background-color: #3B4455;\n",
              "      fill: #D2E3FC;\n",
              "    }\n",
              "\n",
              "    [theme=dark] .colab-df-convert:hover {\n",
              "      background-color: #434B5C;\n",
              "      box-shadow: 0px 1px 3px 1px rgba(0, 0, 0, 0.15);\n",
              "      filter: drop-shadow(0px 1px 2px rgba(0, 0, 0, 0.3));\n",
              "      fill: #FFFFFF;\n",
              "    }\n",
              "  </style>\n",
              "\n",
              "      <script>\n",
              "        const buttonEl =\n",
              "          document.querySelector('#df-e6d59232-a7e4-48e3-9e64-9195e3b1226a button.colab-df-convert');\n",
              "        buttonEl.style.display =\n",
              "          google.colab.kernel.accessAllowed ? 'block' : 'none';\n",
              "\n",
              "        async function convertToInteractive(key) {\n",
              "          const element = document.querySelector('#df-e6d59232-a7e4-48e3-9e64-9195e3b1226a');\n",
              "          const dataTable =\n",
              "            await google.colab.kernel.invokeFunction('convertToInteractive',\n",
              "                                                     [key], {});\n",
              "          if (!dataTable) return;\n",
              "\n",
              "          const docLinkHtml = 'Like what you see? Visit the ' +\n",
              "            '<a target=\"_blank\" href=https://colab.research.google.com/notebooks/data_table.ipynb>data table notebook</a>'\n",
              "            + ' to learn more about interactive tables.';\n",
              "          element.innerHTML = '';\n",
              "          dataTable['output_type'] = 'display_data';\n",
              "          await google.colab.output.renderOutput(dataTable, element);\n",
              "          const docLink = document.createElement('div');\n",
              "          docLink.innerHTML = docLinkHtml;\n",
              "          element.appendChild(docLink);\n",
              "        }\n",
              "      </script>\n",
              "    </div>\n",
              "  </div>\n",
              "  "
            ]
          },
          "metadata": {},
          "execution_count": 8
        }
      ]
    },
    {
      "cell_type": "code",
      "source": [
        "df.nunique()"
      ],
      "metadata": {
        "colab": {
          "base_uri": "https://localhost:8080/"
        },
        "id": "Vp1lpysbfv_G",
        "outputId": "99e1a689-6de1-4514-f235-d120856172d5"
      },
      "execution_count": null,
      "outputs": [
        {
          "output_type": "execute_result",
          "data": {
            "text/plain": [
              "Sentence #    1310\n",
              "Word          3089\n",
              "POS             32\n",
              "Tag              3\n",
              "dtype: int64"
            ]
          },
          "metadata": {},
          "execution_count": 9
        }
      ]
    },
    {
      "cell_type": "code",
      "source": [
        "def get_sentences(dataset):\n",
        "    agg_func = lambda s:[(w,p,t) for w,p,t in zip(s[\"Word\"].values.tolist(),\n",
        "                                                 s[\"POS\"].values.tolist(),\n",
        "                                                 s[\"Tag\"].values.tolist())]\n",
        "    grouped = dataset.groupby(\"Sentence #\").apply(agg_func)\n",
        "    sentences = [s for s in grouped]\n",
        "    return sentences"
      ],
      "metadata": {
        "id": "vXIhR_SbfyfY"
      },
      "execution_count": null,
      "outputs": []
    },
    {
      "cell_type": "code",
      "source": [
        "sentences = get_sentences(df)\n",
        "sentences[1]"
      ],
      "metadata": {
        "colab": {
          "base_uri": "https://localhost:8080/"
        },
        "id": "qWmcs3VIf0fL",
        "outputId": "4d0627c9-194e-4323-cf1e-4a2bbbf66c59"
      },
      "execution_count": null,
      "outputs": [
        {
          "output_type": "execute_result",
          "data": {
            "text/plain": [
              "[('the', 'DT', 'O'),\n",
              " ('mechanism', 'NN', 'O'),\n",
              " ('by', 'IN', 'O'),\n",
              " ('which', 'WDT', 'O'),\n",
              " ('magnesium', 'NN', 'O'),\n",
              " ('affects', 'VBZ', 'O'),\n",
              " ('digitalis', 'RB', 'plant'),\n",
              " ('induced', 'JJ', 'O'),\n",
              " ('arrhythmias', 'NN', 'disease'),\n",
              " ('was', 'VBD', 'O'),\n",
              " ('studied', 'VBN', 'O'),\n",
              " ('in', 'IN', 'O'),\n",
              " ('dogs', 'NNS', 'O'),\n",
              " ('with', 'IN', 'O'),\n",
              " ('and', 'CC', 'O'),\n",
              " ('without', 'IN', 'O'),\n",
              " ('beta', 'NN', 'O'),\n",
              " ('receptor', 'NN', 'O')]"
            ]
          },
          "metadata": {},
          "execution_count": 13
        }
      ]
    },
    {
      "cell_type": "code",
      "source": [
        "def get_dict_map(data, token_or_tag):\n",
        "    tok2idx = {}\n",
        "    idx2tok = {}\n",
        "    \n",
        "    if token_or_tag == 'token':\n",
        "        vocab = list(set(df['Word'].to_list()))\n",
        "    else:\n",
        "        vocab = list(set(df['Tag'].to_list()))\n",
        "    \n",
        "    idx2tok = {idx:tok for  idx, tok in enumerate(vocab)}\n",
        "    tok2idx = {tok:idx for  idx, tok in enumerate(vocab)}\n",
        "    return tok2idx, idx2tok\n",
        "\n",
        "\n",
        "token2idx, idx2token = get_dict_map(df, 'token')\n",
        "tag2idx, idx2tag = get_dict_map(df, 'tag')"
      ],
      "metadata": {
        "id": "HmqmwBsxYPRG"
      },
      "execution_count": null,
      "outputs": []
    },
    {
      "cell_type": "code",
      "source": [
        "df['Word_idx'] = df['Word'].map(token2idx)\n",
        "df['Tag_idx'] = df['Tag'].map(tag2idx)\n",
        "data_fillna = df.fillna(method='ffill', axis=0)\n",
        "data_group = data_fillna.groupby(['Sentence #'],as_index=False\n",
        "                                )['Word', 'POS', 'Tag', 'Word_idx', 'Tag_idx'].agg(lambda x: list(x))\n",
        "\n",
        "data_group.head()"
      ],
      "metadata": {
        "colab": {
          "base_uri": "https://localhost:8080/",
          "height": 392
        },
        "id": "2x5tTucox_pL",
        "outputId": "b452094f-1c43-415d-c151-f4af75b8533f"
      },
      "execution_count": null,
      "outputs": [
        {
          "output_type": "stream",
          "name": "stderr",
          "text": [
            "/usr/local/lib/python3.7/dist-packages/ipykernel_launcher.py:5: FutureWarning: Indexing with multiple keys (implicitly converted to a tuple of keys) will be deprecated, use a list instead.\n",
            "  \"\"\"\n"
          ]
        },
        {
          "output_type": "execute_result",
          "data": {
            "text/plain": [
              "       Sentence #                                               Word  \\\n",
              "0     Sentence: 0  [studies, on, magnesium, s, mechanism, of, act...   \n",
              "1     Sentence: 1  [the, mechanism, by, which, magnesium, affects...   \n",
              "2    Sentence: 10  [these, observations, indicate, that, oral, ad...   \n",
              "3   Sentence: 100  [the, lack, of, association, of, the, nude, mi...   \n",
              "4  Sentence: 1000  [remarkably, daily, oral, feeding, of, 100, mg...   \n",
              "\n",
              "                                                 POS  \\\n",
              "0    [NNS, IN, NN, NN, NN, IN, NN, IN, NN, VBD, NNS]   \n",
              "1  [DT, NN, IN, WDT, NN, VBZ, RB, JJ, NN, VBD, VB...   \n",
              "2  [DT, NNS, VBP, IN, JJ, NN, IN, JJ, JJ, NN, NN,...   \n",
              "3  [DT, NN, IN, NN, IN, DT, JJ, NN, NNS, NNS, NN,...   \n",
              "4  [RB, JJ, JJ, NN, IN, CD, NNS, VBD, NN, NN, IN,...   \n",
              "\n",
              "                                                 Tag  \\\n",
              "0        [O, O, O, O, O, O, O, O, plant, O, disease]   \n",
              "1  [O, O, O, O, O, O, plant, O, disease, O, O, O,...   \n",
              "2  [O, O, O, O, O, O, O, plant, plant, plant, pla...   \n",
              "3  [O, O, O, O, O, O, O, O, disease, disease, O, ...   \n",
              "4  [O, O, O, O, O, O, O, O, O, O, O, plant, O, O,...   \n",
              "\n",
              "                                            Word_idx  \\\n",
              "0  [2506, 268, 2067, 2597, 713, 177, 1584, 2671, ...   \n",
              "1  [2387, 713, 386, 1557, 2067, 2158, 908, 1578, ...   \n",
              "2  [889, 554, 1917, 394, 601, 1499, 177, 2953, 29...   \n",
              "3  [2387, 1398, 177, 938, 177, 2387, 822, 1340, 6...   \n",
              "4  [2125, 1694, 601, 2774, 177, 2142, 1581, 2030,...   \n",
              "\n",
              "                                             Tag_idx  \n",
              "0                  [2, 2, 2, 2, 2, 2, 2, 2, 1, 2, 0]  \n",
              "1  [2, 2, 2, 2, 2, 2, 1, 2, 0, 2, 2, 2, 2, 2, 2, ...  \n",
              "2  [2, 2, 2, 2, 2, 2, 2, 1, 1, 1, 1, 2, 2, 2, 2, ...  \n",
              "3  [2, 2, 2, 2, 2, 2, 2, 2, 0, 0, 2, 2, 2, 2, 2, ...  \n",
              "4  [2, 2, 2, 2, 2, 2, 2, 2, 2, 2, 2, 1, 2, 2, 2, ...  "
            ],
            "text/html": [
              "\n",
              "  <div id=\"df-f36e3995-5471-4c25-81f6-6fb2ea5b81a8\">\n",
              "    <div class=\"colab-df-container\">\n",
              "      <div>\n",
              "<style scoped>\n",
              "    .dataframe tbody tr th:only-of-type {\n",
              "        vertical-align: middle;\n",
              "    }\n",
              "\n",
              "    .dataframe tbody tr th {\n",
              "        vertical-align: top;\n",
              "    }\n",
              "\n",
              "    .dataframe thead th {\n",
              "        text-align: right;\n",
              "    }\n",
              "</style>\n",
              "<table border=\"1\" class=\"dataframe\">\n",
              "  <thead>\n",
              "    <tr style=\"text-align: right;\">\n",
              "      <th></th>\n",
              "      <th>Sentence #</th>\n",
              "      <th>Word</th>\n",
              "      <th>POS</th>\n",
              "      <th>Tag</th>\n",
              "      <th>Word_idx</th>\n",
              "      <th>Tag_idx</th>\n",
              "    </tr>\n",
              "  </thead>\n",
              "  <tbody>\n",
              "    <tr>\n",
              "      <th>0</th>\n",
              "      <td>Sentence: 0</td>\n",
              "      <td>[studies, on, magnesium, s, mechanism, of, act...</td>\n",
              "      <td>[NNS, IN, NN, NN, NN, IN, NN, IN, NN, VBD, NNS]</td>\n",
              "      <td>[O, O, O, O, O, O, O, O, plant, O, disease]</td>\n",
              "      <td>[2506, 268, 2067, 2597, 713, 177, 1584, 2671, ...</td>\n",
              "      <td>[2, 2, 2, 2, 2, 2, 2, 2, 1, 2, 0]</td>\n",
              "    </tr>\n",
              "    <tr>\n",
              "      <th>1</th>\n",
              "      <td>Sentence: 1</td>\n",
              "      <td>[the, mechanism, by, which, magnesium, affects...</td>\n",
              "      <td>[DT, NN, IN, WDT, NN, VBZ, RB, JJ, NN, VBD, VB...</td>\n",
              "      <td>[O, O, O, O, O, O, plant, O, disease, O, O, O,...</td>\n",
              "      <td>[2387, 713, 386, 1557, 2067, 2158, 908, 1578, ...</td>\n",
              "      <td>[2, 2, 2, 2, 2, 2, 1, 2, 0, 2, 2, 2, 2, 2, 2, ...</td>\n",
              "    </tr>\n",
              "    <tr>\n",
              "      <th>2</th>\n",
              "      <td>Sentence: 10</td>\n",
              "      <td>[these, observations, indicate, that, oral, ad...</td>\n",
              "      <td>[DT, NNS, VBP, IN, JJ, NN, IN, JJ, JJ, NN, NN,...</td>\n",
              "      <td>[O, O, O, O, O, O, O, plant, plant, plant, pla...</td>\n",
              "      <td>[889, 554, 1917, 394, 601, 1499, 177, 2953, 29...</td>\n",
              "      <td>[2, 2, 2, 2, 2, 2, 2, 1, 1, 1, 1, 2, 2, 2, 2, ...</td>\n",
              "    </tr>\n",
              "    <tr>\n",
              "      <th>3</th>\n",
              "      <td>Sentence: 100</td>\n",
              "      <td>[the, lack, of, association, of, the, nude, mi...</td>\n",
              "      <td>[DT, NN, IN, NN, IN, DT, JJ, NN, NNS, NNS, NN,...</td>\n",
              "      <td>[O, O, O, O, O, O, O, O, disease, disease, O, ...</td>\n",
              "      <td>[2387, 1398, 177, 938, 177, 2387, 822, 1340, 6...</td>\n",
              "      <td>[2, 2, 2, 2, 2, 2, 2, 2, 0, 0, 2, 2, 2, 2, 2, ...</td>\n",
              "    </tr>\n",
              "    <tr>\n",
              "      <th>4</th>\n",
              "      <td>Sentence: 1000</td>\n",
              "      <td>[remarkably, daily, oral, feeding, of, 100, mg...</td>\n",
              "      <td>[RB, JJ, JJ, NN, IN, CD, NNS, VBD, NN, NN, IN,...</td>\n",
              "      <td>[O, O, O, O, O, O, O, O, O, O, O, plant, O, O,...</td>\n",
              "      <td>[2125, 1694, 601, 2774, 177, 2142, 1581, 2030,...</td>\n",
              "      <td>[2, 2, 2, 2, 2, 2, 2, 2, 2, 2, 2, 1, 2, 2, 2, ...</td>\n",
              "    </tr>\n",
              "  </tbody>\n",
              "</table>\n",
              "</div>\n",
              "      <button class=\"colab-df-convert\" onclick=\"convertToInteractive('df-f36e3995-5471-4c25-81f6-6fb2ea5b81a8')\"\n",
              "              title=\"Convert this dataframe to an interactive table.\"\n",
              "              style=\"display:none;\">\n",
              "        \n",
              "  <svg xmlns=\"http://www.w3.org/2000/svg\" height=\"24px\"viewBox=\"0 0 24 24\"\n",
              "       width=\"24px\">\n",
              "    <path d=\"M0 0h24v24H0V0z\" fill=\"none\"/>\n",
              "    <path d=\"M18.56 5.44l.94 2.06.94-2.06 2.06-.94-2.06-.94-.94-2.06-.94 2.06-2.06.94zm-11 1L8.5 8.5l.94-2.06 2.06-.94-2.06-.94L8.5 2.5l-.94 2.06-2.06.94zm10 10l.94 2.06.94-2.06 2.06-.94-2.06-.94-.94-2.06-.94 2.06-2.06.94z\"/><path d=\"M17.41 7.96l-1.37-1.37c-.4-.4-.92-.59-1.43-.59-.52 0-1.04.2-1.43.59L10.3 9.45l-7.72 7.72c-.78.78-.78 2.05 0 2.83L4 21.41c.39.39.9.59 1.41.59.51 0 1.02-.2 1.41-.59l7.78-7.78 2.81-2.81c.8-.78.8-2.07 0-2.86zM5.41 20L4 18.59l7.72-7.72 1.47 1.35L5.41 20z\"/>\n",
              "  </svg>\n",
              "      </button>\n",
              "      \n",
              "  <style>\n",
              "    .colab-df-container {\n",
              "      display:flex;\n",
              "      flex-wrap:wrap;\n",
              "      gap: 12px;\n",
              "    }\n",
              "\n",
              "    .colab-df-convert {\n",
              "      background-color: #E8F0FE;\n",
              "      border: none;\n",
              "      border-radius: 50%;\n",
              "      cursor: pointer;\n",
              "      display: none;\n",
              "      fill: #1967D2;\n",
              "      height: 32px;\n",
              "      padding: 0 0 0 0;\n",
              "      width: 32px;\n",
              "    }\n",
              "\n",
              "    .colab-df-convert:hover {\n",
              "      background-color: #E2EBFA;\n",
              "      box-shadow: 0px 1px 2px rgba(60, 64, 67, 0.3), 0px 1px 3px 1px rgba(60, 64, 67, 0.15);\n",
              "      fill: #174EA6;\n",
              "    }\n",
              "\n",
              "    [theme=dark] .colab-df-convert {\n",
              "      background-color: #3B4455;\n",
              "      fill: #D2E3FC;\n",
              "    }\n",
              "\n",
              "    [theme=dark] .colab-df-convert:hover {\n",
              "      background-color: #434B5C;\n",
              "      box-shadow: 0px 1px 3px 1px rgba(0, 0, 0, 0.15);\n",
              "      filter: drop-shadow(0px 1px 2px rgba(0, 0, 0, 0.3));\n",
              "      fill: #FFFFFF;\n",
              "    }\n",
              "  </style>\n",
              "\n",
              "      <script>\n",
              "        const buttonEl =\n",
              "          document.querySelector('#df-f36e3995-5471-4c25-81f6-6fb2ea5b81a8 button.colab-df-convert');\n",
              "        buttonEl.style.display =\n",
              "          google.colab.kernel.accessAllowed ? 'block' : 'none';\n",
              "\n",
              "        async function convertToInteractive(key) {\n",
              "          const element = document.querySelector('#df-f36e3995-5471-4c25-81f6-6fb2ea5b81a8');\n",
              "          const dataTable =\n",
              "            await google.colab.kernel.invokeFunction('convertToInteractive',\n",
              "                                                     [key], {});\n",
              "          if (!dataTable) return;\n",
              "\n",
              "          const docLinkHtml = 'Like what you see? Visit the ' +\n",
              "            '<a target=\"_blank\" href=https://colab.research.google.com/notebooks/data_table.ipynb>data table notebook</a>'\n",
              "            + ' to learn more about interactive tables.';\n",
              "          element.innerHTML = '';\n",
              "          dataTable['output_type'] = 'display_data';\n",
              "          await google.colab.output.renderOutput(dataTable, element);\n",
              "          const docLink = document.createElement('div');\n",
              "          docLink.innerHTML = docLinkHtml;\n",
              "          element.appendChild(docLink);\n",
              "        }\n",
              "      </script>\n",
              "    </div>\n",
              "  </div>\n",
              "  "
            ]
          },
          "metadata": {},
          "execution_count": 16
        }
      ]
    },
    {
      "cell_type": "code",
      "source": [
        "seqs_length = [len(s) for s in sentences]\n",
        "max_seq_length = max(seqs_length)\n",
        "print(f\"Max sequence length: {max_seq_length}\")\n",
        "\n",
        "words = list(df['Word'].unique())\n",
        "words.append(\"[PAD]\")\n",
        "num_words = len(words)\n",
        "print(f\"Number of words: {num_words}\")\n",
        "\n",
        "tags = list(df['Tag'].unique())\n",
        "num_tags = len(tags)\n",
        "print(f\"Number of tags: {num_tags}\")"
      ],
      "metadata": {
        "colab": {
          "base_uri": "https://localhost:8080/"
        },
        "id": "LeQvDjQ4f3o1",
        "outputId": "4b9cfa40-6707-4727-eb02-b92eb3ea4e3c"
      },
      "execution_count": null,
      "outputs": [
        {
          "output_type": "stream",
          "name": "stdout",
          "text": [
            "Max sequence length: 137\n",
            "Number of words: 3090\n",
            "Number of tags: 3\n"
          ]
        }
      ]
    },
    {
      "cell_type": "code",
      "source": [
        "plt.hist(seqs_length,bins= 50)\n",
        "plt.xlabel(\"Length of Sequences\")\n",
        "plt.show()"
      ],
      "metadata": {
        "colab": {
          "base_uri": "https://localhost:8080/",
          "height": 279
        },
        "id": "NiKtTKgff5YE",
        "outputId": "46e5187a-b5e9-4fcb-d37f-dcf6a5b5fa82"
      },
      "execution_count": null,
      "outputs": [
        {
          "output_type": "display_data",
          "data": {
            "text/plain": [
              "<Figure size 432x288 with 1 Axes>"
            ],
            "image/png": "[encoded data removed]"
          },
          "metadata": {
            "needs_background": "light"
          }
        }
      ]
    },
    {
      "cell_type": "code",
      "source": [
        "word2idx = {word: idx for idx, word in enumerate(words)}\n",
        "tag2idx = {tag: idx for idx, tag in enumerate(tags)}"
      ],
      "metadata": {
        "id": "3tq_G5sQf7yx"
      },
      "execution_count": null,
      "outputs": []
    },
    {
      "cell_type": "code",
      "source": [
        "from keras.preprocessing.sequence import pad_sequences\n",
        "\n",
        "X = [[word2idx[w[0]] for w in s] for s in sentences]\n",
        "y = [[tag2idx[w[2]] for w in s] for s in sentences]\n",
        "\n",
        "paddedX = pad_sequences(maxlen = max_seq_length,sequences = X,padding = 'post',value = num_words-1)\n",
        "paddedY = pad_sequences(maxlen = max_seq_length,sequences = y,padding = 'post',value = tag2idx['O'])\n",
        "\n",
        "from tensorflow.keras.utils import to_categorical\n",
        "X = paddedX\n",
        "y = [to_categorical(i,num_classes = num_tags) for i in paddedY]"
      ],
      "metadata": {
        "id": "znwY7eOKf92i"
      },
      "execution_count": null,
      "outputs": []
    },
    {
      "cell_type": "code",
      "source": [
        "from sklearn.model_selection import train_test_split\n",
        "x_train,x_test,y_train,y_test = train_test_split(X,y,test_size = 0.1,random_state=1)"
      ],
      "metadata": {
        "id": "Z8aV_PVGgAm7"
      },
      "execution_count": null,
      "outputs": []
    },
    {
      "cell_type": "code",
      "source": [
        "from keras.models import Model, Input\n",
        "from keras.layers import LSTM, Embedding, Dense, TimeDistributed, Dropout, Bidirectional\n",
        "\n",
        "_input = Input(shape=(max_seq_length,))\n",
        "_embed = Embedding(input_dim=num_words, output_dim=max_seq_length, input_length=max_seq_length)(_input)\n",
        "_embed = Dropout(0.1)(_embed)\n",
        "_arch = Bidirectional(LSTM(units=100, return_sequences=True, recurrent_dropout=0.1))(_embed)\n",
        "_output = TimeDistributed(Dense(num_tags, activation=\"softmax\"))(_arch)  # softmax output layer\n",
        "\n",
        "\n",
        "model = Model(_input, _output)\n",
        "model.summary()"
      ],
      "metadata": {
        "colab": {
          "base_uri": "https://localhost:8080/"
        },
        "id": "mTV-lyQogDIP",
        "outputId": "1b1a7090-af8d-4a30-8c4d-8957721517e5"
      },
      "execution_count": null,
      "outputs": [
        {
          "output_type": "stream",
          "name": "stdout",
          "text": [
            "Model: \"model\"\n",
            "_________________________________________________________________\n",
            " Layer (type)                Output Shape              Param #   \n",
            "=================================================================\n",
            " input_1 (InputLayer)        [(None, 137)]             0         \n",
            "                                                                 \n",
            " embedding (Embedding)       (None, 137, 137)          423330    \n",
            "                                                                 \n",
            " dropout (Dropout)           (None, 137, 137)          0         \n",
            "                                                                 \n",
            " bidirectional (Bidirectiona  (None, 137, 200)         190400    \n",
            " l)                                                              \n",
            "                                                                 \n",
            " time_distributed (TimeDistr  (None, 137, 3)           603       \n",
            " ibuted)                                                         \n",
            "                                                                 \n",
            "=================================================================\n",
            "Total params: 614,333\n",
            "Trainable params: 614,333\n",
            "Non-trainable params: 0\n",
            "_________________________________________________________________\n"
          ]
        }
      ]
    },
    {
      "cell_type": "code",
      "source": [
        "plot_model(model)"
      ],
      "metadata": {
        "colab": {
          "base_uri": "https://localhost:8080/",
          "height": 466
        },
        "id": "THN7IQINgJqj",
        "outputId": "6b1ac156-bea0-4ab8-abe8-4b617593afad"
      },
      "execution_count": null,
      "outputs": [
        {
          "output_type": "execute_result",
          "data": {
            "text/plain": [
              "<IPython.core.display.Image object>"
            ],
            "image/png": "[encoded data removed]"
          },
          "metadata": {},
          "execution_count": 34
        }
      ]
    },
    {
      "cell_type": "code",
      "source": [
        "from keras import backend as K\n",
        "\n",
        "def recall_scores(y_true, y_pred):\n",
        "    true_positives = K.sum(K.round(K.clip(y_true * y_pred, 0, 1)))\n",
        "    possible_positives = K.sum(K.round(K.clip(y_true, 0, 1)))\n",
        "    recall = true_positives / (possible_positives + K.epsilon())\n",
        "    return recall\n",
        "\n",
        "def precision_scores(y_true, y_pred):\n",
        "    true_positives = K.sum(K.round(K.clip(y_true * y_pred, 0, 1)))\n",
        "    predicted_positives = K.sum(K.round(K.clip(y_pred, 0, 1)))\n",
        "    precision = true_positives / (predicted_positives + K.epsilon())\n",
        "    return precision\n",
        "\n",
        "def f1_scores(y_true, y_pred):\n",
        "    precision = precision_scores(y_true, y_pred)\n",
        "    recall = recall_scores(y_true, y_pred)\n",
        "    return 2*((precision*recall)/(precision+recall+K.epsilon()))"
      ],
      "metadata": {
        "id": "qu_UBYmNtFDY"
      },
      "execution_count": null,
      "outputs": []
    },
    {
      "cell_type": "code",
      "source": [
        "model.compile(optimizer = 'adam', loss='categorical_crossentropy', metrics = ['accuracy', f1_scores, precision_scores, recall_scores])"
      ],
      "metadata": {
        "id": "EicqkspfgM88"
      },
      "execution_count": null,
      "outputs": []
    },
    {
      "cell_type": "code",
      "source": [
        "from tensorflow.keras.callbacks import ModelCheckpoint, EarlyStopping \n",
        "\n",
        "\n",
        "early_stopping = EarlyStopping(monitor = 'val_accuracy',patience =2,verbose = 0,mode = 'max',restore_best_weights = False)\n",
        "callbacks = [early_stopping]\n",
        "\n",
        "history = model.fit(\n",
        "    x_train,np.array(y_train),\n",
        "    validation_split =0.2,\n",
        "    batch_size = 32,\n",
        "    epochs = 3,\n",
        "    verbose =1\n",
        ")"
      ],
      "metadata": {
        "colab": {
          "base_uri": "https://localhost:8080/"
        },
        "id": "Hljy1JjugQw9",
        "outputId": "c0796742-6a9c-4c99-830d-b273760a782d"
      },
      "execution_count": null,
      "outputs": [
        {
          "output_type": "stream",
          "name": "stdout",
          "text": [
            "Epoch 1/3\n",
            "30/30 [==============================] - 25s 650ms/step - loss: 0.3238 - accuracy: 0.9557 - f1_scores: 0.8218 - precision_scores: 0.8398 - recall_scores: 0.8087 - val_loss: 0.1282 - val_accuracy: 0.9662 - val_f1_scores: 0.9663 - val_precision_scores: 0.9663 - val_recall_scores: 0.9663\n",
            "Epoch 2/3\n",
            "30/30 [==============================] - 23s 774ms/step - loss: 0.1218 - accuracy: 0.9648 - f1_scores: 0.9649 - precision_scores: 0.9649 - recall_scores: 0.9649 - val_loss: 0.1099 - val_accuracy: 0.9662 - val_f1_scores: 0.9663 - val_precision_scores: 0.9663 - val_recall_scores: 0.9663\n",
            "Epoch 3/3\n",
            "30/30 [==============================] - 19s 627ms/step - loss: 0.1085 - accuracy: 0.9648 - f1_scores: 0.9650 - precision_scores: 0.9651 - recall_scores: 0.9648 - val_loss: 0.1002 - val_accuracy: 0.9662 - val_f1_scores: 0.9663 - val_precision_scores: 0.9663 - val_recall_scores: 0.9663\n"
          ]
        }
      ]
    },
    {
      "cell_type": "code",
      "source": [
        "model.evaluate(x_test,np.array(y_test))\n",
        "loss, accuracy, f1_score, precision, recall = model.evaluate(x_test,np.array(y_test), verbose=0)"
      ],
      "metadata": {
        "colab": {
          "base_uri": "https://localhost:8080/"
        },
        "id": "mOMY5DXTgTrK",
        "outputId": "3c497aa7-bb71-4235-d6dc-4022fe4828c5"
      },
      "execution_count": null,
      "outputs": [
        {
          "output_type": "stream",
          "name": "stdout",
          "text": [
            "5/5 [==============================] - 0s 81ms/step - loss: 0.0924 - accuracy: 0.9689 - f1_scores: 0.9714 - precision_scores: 0.9714 - recall_scores: 0.9714\n"
          ]
        }
      ]
    },
    {
      "cell_type": "code",
      "source": [
        "print(f\"Loss : {loss}\")\n",
        "print(f\"Precision : {precision}\")\n",
        "print(f\"Recall : {recall}\")\n",
        "print(f\"Accuracy : {accuracy}\")\n",
        "print(f\"F-1 Score : {f1_score}\")"
      ],
      "metadata": {
        "colab": {
          "base_uri": "https://localhost:8080/"
        },
        "id": "xGRdMf9Rtq-h",
        "outputId": "fc3fff82-ff5c-4a5c-ee07-90bf1fbe3bf0"
      },
      "execution_count": null,
      "outputs": [
        {
          "output_type": "stream",
          "name": "stdout",
          "text": [
            "Loss : 0.09244067221879959\n",
            "Precision : 0.9714112281799316\n",
            "Recall : 0.9714112281799316\n",
            "Accuracy : 0.9688527584075928\n",
            "F-1 Score : 0.9714111089706421\n"
          ]
        }
      ]
    },
    {
      "cell_type": "code",
      "source": [
        "model.save('/content/drive/MyDrive/bert_bilstm_crf_named_entity_recognition/BILSTM-NER/output/model')"
      ],
      "metadata": {
        "colab": {
          "base_uri": "https://localhost:8080/"
        },
        "id": "7tCOkORvgr74",
        "outputId": "7625aebb-95d4-49c8-c33c-94e5ea34cb24"
      },
      "execution_count": null,
      "outputs": [
        {
          "output_type": "stream",
          "name": "stdout",
          "text": [
            "INFO:tensorflow:Assets written to: /content/drive/MyDrive/bert_bilstm_crf_named_entity_recognition/BILSTM-NER/output/model/assets\n"
          ]
        },
        {
          "output_type": "stream",
          "name": "stderr",
          "text": [
            "WARNING:absl:<keras.layers.recurrent.LSTMCell object at 0x7f795c031150> has the same name 'LSTMCell' as a built-in Keras object. Consider renaming <class 'keras.layers.recurrent.LSTMCell'> to avoid naming conflicts when loading with `tf.keras.models.load_model`. If renaming is not possible, pass the object in the `custom_objects` parameter of the load function.\n",
            "WARNING:absl:<keras.layers.recurrent.LSTMCell object at 0x7f795c031dd0> has the same name 'LSTMCell' as a built-in Keras object. Consider renaming <class 'keras.layers.recurrent.LSTMCell'> to avoid naming conflicts when loading with `tf.keras.models.load_model`. If renaming is not possible, pass the object in the `custom_objects` parameter of the load function.\n"
          ]
        }
      ]
    }
  ]
}